{
 "cells": [
  {
   "cell_type": "markdown",
   "metadata": {},
   "source": [
    " Pruning "
   ]
  },
  {
   "cell_type": "code",
   "execution_count": 4,
   "metadata": {},
   "outputs": [
    {
     "name": "stdout",
     "output_type": "stream",
     "text": [
      "WARNING:tensorflow:From c:\\Users\\Bruce\\AppData\\Local\\Programs\\Python\\Python311\\Lib\\site-packages\\tf_keras\\src\\losses.py:2976: The name tf.losses.sparse_softmax_cross_entropy is deprecated. Please use tf.compat.v1.losses.sparse_softmax_cross_entropy instead.\n",
      "\n"
     ]
    }
   ],
   "source": [
    "import tensorflow_model_optimization as tfmot"
   ]
  },
  {
   "cell_type": "code",
   "execution_count": 5,
   "metadata": {},
   "outputs": [
    {
     "ename": "NameError",
     "evalue": "name 'model' is not defined",
     "output_type": "error",
     "traceback": [
      "\u001b[1;31m---------------------------------------------------------------------------\u001b[0m",
      "\u001b[1;31mNameError\u001b[0m                                 Traceback (most recent call last)",
      "Cell \u001b[1;32mIn[5], line 6\u001b[0m\n\u001b[0;32m      1\u001b[0m pruning_schedule \u001b[38;5;241m=\u001b[39m tfmot\u001b[38;5;241m.\u001b[39msparsity\u001b[38;5;241m.\u001b[39mkeras\u001b[38;5;241m.\u001b[39mPolynomialDecay(\n\u001b[0;32m      2\u001b[0m     initial_sparsity\u001b[38;5;241m=\u001b[39m\u001b[38;5;241m0.0\u001b[39m, final_sparsity\u001b[38;5;241m=\u001b[39m\u001b[38;5;241m0.5\u001b[39m, begin_step\u001b[38;5;241m=\u001b[39m\u001b[38;5;241m2000\u001b[39m, end_step\u001b[38;5;241m=\u001b[39m\u001b[38;5;241m4000\u001b[39m\n\u001b[0;32m      3\u001b[0m )\n\u001b[0;32m      5\u001b[0m prune_low_magnitude \u001b[38;5;241m=\u001b[39m tfmot\u001b[38;5;241m.\u001b[39msparsity\u001b[38;5;241m.\u001b[39mkeras\u001b[38;5;241m.\u001b[39mprune_low_magnitude\n\u001b[1;32m----> 6\u001b[0m model_for_pruning \u001b[38;5;241m=\u001b[39m prune_low_magnitude(\u001b[43mmodel\u001b[49m, pruning_schedule\u001b[38;5;241m=\u001b[39mpruning_schedule)\n",
      "\u001b[1;31mNameError\u001b[0m: name 'model' is not defined"
     ]
    }
   ],
   "source": [
    "\n",
    "pruning_schedule = tfmot.sparsity.keras.PolynomialDecay(\n",
    "    initial_sparsity=0.0, final_sparsity=0.5, begin_step=2000, end_step=4000\n",
    ")\n",
    "\n",
    "prune_low_magnitude = tfmot.sparsity.keras.prune_low_magnitude\n",
    "model_for_pruning = prune_low_magnitude(model, pruning_schedule=pruning_schedule)\n"
   ]
  }
 ],
 "metadata": {
  "kernelspec": {
   "display_name": "Python 3",
   "language": "python",
   "name": "python3"
  },
  "language_info": {
   "codemirror_mode": {
    "name": "ipython",
    "version": 3
   },
   "file_extension": ".py",
   "mimetype": "text/x-python",
   "name": "python",
   "nbconvert_exporter": "python",
   "pygments_lexer": "ipython3",
   "version": "3.11.9"
  }
 },
 "nbformat": 4,
 "nbformat_minor": 2
}
